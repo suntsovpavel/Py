{
  "nbformat": 4,
  "nbformat_minor": 0,
  "metadata": {
    "colab": {
      "provenance": []
    },
    "kernelspec": {
      "name": "python3",
      "display_name": "Python 3"
    },
    "language_info": {
      "name": "python"
    }
  },
  "cells": [
    {
      "cell_type": "code",
      "execution_count": 26,
      "metadata": {
        "id": "QbzuA-Kt0oQ5"
      },
      "outputs": [],
      "source": [
        "import pandas as pd\n",
        "import seaborn as sns\n",
        "import google.colab as files\n",
        "\n",
        "df = pd.read_csv('data20152019.csv', sep=';', encoding='cp1251')"
      ]
    },
    {
      "cell_type": "markdown",
      "source": [
        "Задача 1. Найдите, какая область центрального федерального округа имела наибольшую численность студентов вечерней формы обучения в 2015 году."
      ],
      "metadata": {
        "id": "f1aIvORg09dy"
      }
    },
    {
      "cell_type": "code",
      "source": [
        "# выборка строк, относящихся к ЦФО\n",
        "df_task1 = df.iloc[2:20,:]\n",
        "\n",
        "maxvalue = df_task1['Численность студентов очно-заочная (вечерняя) форма, человек, 2015'].max()\n",
        "\n",
        "df_task1[df_task1['Численность студентов очно-заочная (вечерняя) форма, человек, 2015'] == maxvalue]"
      ],
      "metadata": {
        "id": "QQP36Eae2kXU"
      },
      "execution_count": null,
      "outputs": []
    },
    {
      "cell_type": "markdown",
      "source": [
        "Задача 2. Постройте диаграмму с данными о численности студентов дневной формы обучения южного федерального округа за 2017 год."
      ],
      "metadata": {
        "id": "LW63vQXS3x7e"
      }
    },
    {
      "cell_type": "code",
      "source": [
        "# выборка строк, относящихся к ЮФО\n",
        "df_task2 = df.iloc[33:41,:]\n",
        "\n",
        "plot = sns.barplot(df_task2, x = 'Субъект РФ', y = 'Численность студентов, очная форма, человек, 2017')\n",
        "\n",
        "plot.set_xticklabels(labels = df_task2['Субъект РФ'], rotation = 90)"
      ],
      "metadata": {
        "id": "RobUZhmK3ywG"
      },
      "execution_count": null,
      "outputs": []
    },
    {
      "cell_type": "markdown",
      "source": [
        "Задача 3. Постройте диаграмму количества студентов заочной формы обучения за 2019 год по всем регионам, в которых общее количество студентов не превышает 10000 за данный год."
      ],
      "metadata": {
        "id": "BQbIorkf5ZkI"
      }
    },
    {
      "cell_type": "code",
      "source": [
        "# Выборка регионов по общему количеству студентов за 2019, не превышающему 10000\n",
        "df_task3 = df[df['Численность студентов, всего человек, 2019'] < 10001]\n",
        "\n",
        "# pd.DataFrame(df_task3, columns = ['Субъект РФ','Численность студентов заочная форма, человек, 2019'])\n",
        "\n",
        "plot = sns.barplot(df_task3, x = 'Субъект РФ', y = 'Численность студентов заочная форма, человек, 2019')\n",
        "\n",
        "plot.set_xticklabels(labels = df_task3['Субъект РФ'], rotation = 90)"
      ],
      "metadata": {
        "id": "pQ4vY_yf5ceX"
      },
      "execution_count": null,
      "outputs": []
    }
  ]
}